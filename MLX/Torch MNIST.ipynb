{
 "cells": [
  {
   "cell_type": "code",
   "execution_count": 2,
   "metadata": {},
   "outputs": [],
   "source": [
    "import torch\n",
    "import torch.nn as nn\n",
    "import torch.optim as optim\n",
    "import numpy as np\n",
    "import torchvision\n",
    "import torch.nn.functional as F\n",
    "\n",
    "import time\n",
    "\n",
    "device = torch.device(\"mps\")"
   ]
  },
  {
   "cell_type": "code",
   "execution_count": 3,
   "metadata": {},
   "outputs": [],
   "source": [
    "def load_data(dataset = \"mnist\", \n",
    "              path = 'data', \n",
    "              train = True, \n",
    "              batch_size = 256, \n",
    "              transforms = torchvision.transforms.ToTensor(),\n",
    "              download  = True):\n",
    "    '''\n",
    "    Returns the dataset and dataloader for the specified dataset.\n",
    "    \n",
    "    Supported datasets: [mnist, cifar, fashion, emnist, kmnist, svhn]\n",
    "    '''\n",
    "    if dataset.lower() == 'mnist':\n",
    "        dataset = torchvision.datasets.MNIST(path, train=train, transform=transforms, download=download)\n",
    "    elif dataset.lower() == 'fashion':\n",
    "        dataset = torchvision.datasets.FashionMNIST(path, train=train, transform=transforms, download=download)\n",
    "    elif dataset.lower() == 'cifar':\n",
    "        dataset = torchvision.datasets.CIFAR10(path, train=train, transform=transforms, download=download)\n",
    "    elif dataset.lower() == 'emnist':\n",
    "        dataset = torchvision.datasets.EMNIST(path, train=train, transform=transforms, download=download, split='letters')\n",
    "    elif dataset.lower() == 'kmnist':\n",
    "        dataset = torchvision.datasets.KMNIST(path, train=train, transform=transforms, download=download)\n",
    "    elif dataset.lower() == 'svhn':\n",
    "        dataset = torchvision.datasets.SVHN(path + '/SVHN', split='train' if train else 'test', transform=transforms, download=download)\n",
    "    else:\n",
    "        raise ValueError('Invalid dataset. Options: [mnist, cifar, fashion, emnist, kmnist, svhn]')\n",
    "    loader = torch.utils.data.DataLoader(dataset, batch_size=batch_size, shuffle=True)\n",
    "    return dataset, loader"
   ]
  },
  {
   "cell_type": "code",
   "execution_count": 4,
   "metadata": {},
   "outputs": [],
   "source": [
    "class MLP(nn.Module):\n",
    "    def __init__(self):\n",
    "        super().__init__()\n",
    "\n",
    "        self.fc1 = nn.Linear(784, 512)\n",
    "        self.fc2 = nn.Linear(512, 256)\n",
    "        self.fc3 = nn.Linear(256, 64)\n",
    "        self.out = nn.Linear(64, 10)\n",
    "    \n",
    "    def forward(self, x):\n",
    "        x = self.fc1(x)\n",
    "        x = F.relu(x) \n",
    "        x = self.fc2(x)\n",
    "        x = F.relu(x)\n",
    "        x = self.fc3(x)\n",
    "        x = F.relu(x)\n",
    "        x = self.out(x)\n",
    "        return x"
   ]
  },
  {
   "cell_type": "code",
   "execution_count": 5,
   "metadata": {},
   "outputs": [
    {
     "name": "stdout",
     "output_type": "stream",
     "text": [
      "Epoch: 1, Test Accuracy: 0.6136000156402588 Time: 4.588\n",
      "Epoch: 2, Test Accuracy: 0.852400004863739 Time: 4.123\n",
      "Epoch: 3, Test Accuracy: 0.8822000026702881 Time: 4.274\n",
      "Epoch: 4, Test Accuracy: 0.9016000032424927 Time: 4.259\n",
      "Epoch: 5, Test Accuracy: 0.9124000072479248 Time: 4.226\n",
      "Epoch: 6, Test Accuracy: 0.9241999983787537 Time: 4.138\n",
      "Epoch: 7, Test Accuracy: 0.9336000084877014 Time: 4.173\n",
      "Epoch: 8, Test Accuracy: 0.9376000165939331 Time: 4.026\n",
      "Epoch: 9, Test Accuracy: 0.9444000124931335 Time: 4.032\n",
      "Epoch: 10, Test Accuracy: 0.9474999904632568 Time: 4.016\n"
     ]
    }
   ],
   "source": [
    "_, train_loader = load_data(batch_size=64)\n",
    "_, test_loader = load_data(batch_size=64, train=False)\n",
    "\n",
    "model = MLP()\n",
    "model.to(device)\n",
    "model.train()\n",
    "\n",
    "optimizer = torch.optim.SGD(model.parameters(), lr=0.01)\n",
    "\n",
    "criterion = torch.nn.CrossEntropyLoss()\n",
    "for epoch in range(10):\n",
    "    tic = time.perf_counter()\n",
    "    model.train()\n",
    "\n",
    "    for X, y in train_loader:\n",
    "        X, y = X.to(device), y.to(device)\n",
    "        X = X.flatten(start_dim=1)\n",
    "\n",
    "        output = model(X)\n",
    "        loss = criterion(output, y)\n",
    "\n",
    "        optimizer.zero_grad()\n",
    "        loss.backward()\n",
    "        optimizer.step()\n",
    "\n",
    "    model.eval()\n",
    "    accuracy = 0\n",
    "    n = 0\n",
    "    for f, l in test_loader:\n",
    "        f, l = f.to(device), l.to(device)\n",
    "        f = f.flatten(start_dim=1)\n",
    "        accuracy += (model(f).argmax(dim=-1) == l).sum()\n",
    "        n += len(l)\n",
    "\n",
    "    toc = time.perf_counter()\n",
    "    print(\n",
    "        f\"Epoch: {epoch+1}, Test Accuracy: {accuracy / n}\",\n",
    "        f\"Time: {toc - tic:.3f}\"\n",
    "    )"
   ]
  }
 ],
 "metadata": {
  "kernelspec": {
   "display_name": "sci",
   "language": "python",
   "name": "python3"
  },
  "language_info": {
   "codemirror_mode": {
    "name": "ipython",
    "version": 3
   },
   "file_extension": ".py",
   "mimetype": "text/x-python",
   "name": "python",
   "nbconvert_exporter": "python",
   "pygments_lexer": "ipython3",
   "version": "3.12.2"
  }
 },
 "nbformat": 4,
 "nbformat_minor": 2
}
